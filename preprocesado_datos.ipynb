{
 "cells": [
  {
   "cell_type": "markdown",
   "metadata": {},
   "source": [
    "# **Importación de librerías** \n",
    "Se importan las librerías necesarias para el análisis\n",
    "- *requests*:  para hacer solicitudes HTTP.\n",
    "- *pandas*: para la manipulación de datos.\n",
    "- *numpy*: para operaciones numéricas.\n",
    "- *matplotlib y seaborn*: para la visualización de datos."
   ]
  },
  {
   "cell_type": "code",
   "execution_count": 33,
   "metadata": {},
   "outputs": [],
   "source": [
    "import requests\n",
    "import pandas as pd\n",
    "import numpy as np\n",
    "import matplotlib.pyplot as plt\n",
    "import seaborn as sns\n",
    "import missingno as msno\n",
    "\n",
    "from scipy import stats\n",
    "from sklearn.preprocessing import StandardScaler\n",
    "\n",
    "import data_util as util\n",
    "\n",
    "import warnings\n",
    "\n",
    "# Ignorar todas las advertencias\n",
    "warnings.filterwarnings(\"ignore\")"
   ]
  },
  {
   "cell_type": "code",
   "execution_count": 34,
   "metadata": {},
   "outputs": [
    {
     "data": {
      "text/plain": [
       "(20780, 41)"
      ]
     },
     "execution_count": 34,
     "metadata": {},
     "output_type": "execute_result"
    }
   ],
   "source": [
    "df.shape"
   ]
  },
  {
   "cell_type": "markdown",
   "metadata": {},
   "source": [
    "# **Obtención de los datos**\n",
    "* Cargar csv: Obtener los datos de la API.\n",
    "* Convertir los datos cargados a un DataFrame de Python\n",
    "* Analizar las características del DataFrame."
   ]
  },
  {
   "cell_type": "code",
   "execution_count": 35,
   "metadata": {},
   "outputs": [
    {
     "data": {
      "text/html": [
       "<div>\n",
       "<style scoped>\n",
       "    .dataframe tbody tr th:only-of-type {\n",
       "        vertical-align: middle;\n",
       "    }\n",
       "\n",
       "    .dataframe tbody tr th {\n",
       "        vertical-align: top;\n",
       "    }\n",
       "\n",
       "    .dataframe thead th {\n",
       "        text-align: right;\n",
       "    }\n",
       "</style>\n",
       "<table border=\"1\" class=\"dataframe\">\n",
       "  <thead>\n",
       "    <tr style=\"text-align: right;\">\n",
       "      <th></th>\n",
       "      <th>date</th>\n",
       "      <th>state</th>\n",
       "      <th>death</th>\n",
       "      <th>deathConfirmed</th>\n",
       "      <th>deathIncrease</th>\n",
       "      <th>deathProbable</th>\n",
       "      <th>hospitalized</th>\n",
       "      <th>hospitalizedCumulative</th>\n",
       "      <th>hospitalizedCurrently</th>\n",
       "      <th>hospitalizedIncrease</th>\n",
       "      <th>...</th>\n",
       "      <th>totalTestResults</th>\n",
       "      <th>totalTestResultsIncrease</th>\n",
       "      <th>totalTestsAntibody</th>\n",
       "      <th>totalTestsAntigen</th>\n",
       "      <th>totalTestsPeopleAntibody</th>\n",
       "      <th>totalTestsPeopleAntigen</th>\n",
       "      <th>totalTestsPeopleViral</th>\n",
       "      <th>totalTestsPeopleViralIncrease</th>\n",
       "      <th>totalTestsViral</th>\n",
       "      <th>totalTestsViralIncrease</th>\n",
       "    </tr>\n",
       "  </thead>\n",
       "  <tbody>\n",
       "    <tr>\n",
       "      <th>0</th>\n",
       "      <td>2021-03-07</td>\n",
       "      <td>AK</td>\n",
       "      <td>305.0</td>\n",
       "      <td>NaN</td>\n",
       "      <td>0</td>\n",
       "      <td>NaN</td>\n",
       "      <td>1293.0</td>\n",
       "      <td>1293.0</td>\n",
       "      <td>33.0</td>\n",
       "      <td>0</td>\n",
       "      <td>...</td>\n",
       "      <td>1731628.0</td>\n",
       "      <td>0</td>\n",
       "      <td>NaN</td>\n",
       "      <td>NaN</td>\n",
       "      <td>NaN</td>\n",
       "      <td>NaN</td>\n",
       "      <td>NaN</td>\n",
       "      <td>0</td>\n",
       "      <td>1731628.0</td>\n",
       "      <td>0</td>\n",
       "    </tr>\n",
       "    <tr>\n",
       "      <th>1</th>\n",
       "      <td>2021-03-07</td>\n",
       "      <td>AL</td>\n",
       "      <td>10148.0</td>\n",
       "      <td>7963.0</td>\n",
       "      <td>-1</td>\n",
       "      <td>2185.0</td>\n",
       "      <td>45976.0</td>\n",
       "      <td>45976.0</td>\n",
       "      <td>494.0</td>\n",
       "      <td>0</td>\n",
       "      <td>...</td>\n",
       "      <td>2323788.0</td>\n",
       "      <td>2347</td>\n",
       "      <td>NaN</td>\n",
       "      <td>NaN</td>\n",
       "      <td>119757.0</td>\n",
       "      <td>NaN</td>\n",
       "      <td>2323788.0</td>\n",
       "      <td>2347</td>\n",
       "      <td>NaN</td>\n",
       "      <td>0</td>\n",
       "    </tr>\n",
       "  </tbody>\n",
       "</table>\n",
       "<p>2 rows × 41 columns</p>\n",
       "</div>"
      ],
      "text/plain": [
       "         date state    death  deathConfirmed  deathIncrease  deathProbable  \\\n",
       "0  2021-03-07    AK    305.0             NaN              0            NaN   \n",
       "1  2021-03-07    AL  10148.0          7963.0             -1         2185.0   \n",
       "\n",
       "   hospitalized  hospitalizedCumulative  hospitalizedCurrently  \\\n",
       "0        1293.0                  1293.0                   33.0   \n",
       "1       45976.0                 45976.0                  494.0   \n",
       "\n",
       "   hospitalizedIncrease  ...  totalTestResults  totalTestResultsIncrease  \\\n",
       "0                     0  ...         1731628.0                         0   \n",
       "1                     0  ...         2323788.0                      2347   \n",
       "\n",
       "   totalTestsAntibody  totalTestsAntigen  totalTestsPeopleAntibody  \\\n",
       "0                 NaN                NaN                       NaN   \n",
       "1                 NaN                NaN                  119757.0   \n",
       "\n",
       "   totalTestsPeopleAntigen  totalTestsPeopleViral  \\\n",
       "0                      NaN                    NaN   \n",
       "1                      NaN              2323788.0   \n",
       "\n",
       "   totalTestsPeopleViralIncrease  totalTestsViral  totalTestsViralIncrease  \n",
       "0                              0        1731628.0                        0  \n",
       "1                           2347              NaN                        0  \n",
       "\n",
       "[2 rows x 41 columns]"
      ]
     },
     "execution_count": 35,
     "metadata": {},
     "output_type": "execute_result"
    }
   ],
   "source": [
    "\n",
    "# Cargar csv\n",
    "ruta = \"../minidatathonF5_emma/data/all-states-history.csv\"\n",
    "ruta_nuevoCSV = \"../minidatathonF5_emma/data/covid19_all.csv\"\n",
    "df = pd.read_csv(ruta, sep=',')\n",
    "df.head(2)"
   ]
  },
  {
   "cell_type": "code",
   "execution_count": 36,
   "metadata": {},
   "outputs": [
    {
     "data": {
      "text/plain": [
       "(20780, 41)"
      ]
     },
     "execution_count": 36,
     "metadata": {},
     "output_type": "execute_result"
    }
   ],
   "source": [
    "# Comprobar la dimensión de los datos cargados\n",
    "df.shape"
   ]
  },
  {
   "cell_type": "code",
   "execution_count": 37,
   "metadata": {},
   "outputs": [
    {
     "name": "stdout",
     "output_type": "stream",
     "text": [
      "<class 'pandas.core.frame.DataFrame'>\n",
      "RangeIndex: 20780 entries, 0 to 20779\n",
      "Data columns (total 41 columns):\n",
      " #   Column                            Non-Null Count  Dtype  \n",
      "---  ------                            --------------  -----  \n",
      " 0   date                              20780 non-null  object \n",
      " 1   state                             20780 non-null  object \n",
      " 2   death                             19930 non-null  float64\n",
      " 3   deathConfirmed                    9422 non-null   float64\n",
      " 4   deathIncrease                     20780 non-null  int64  \n",
      " 5   deathProbable                     7593 non-null   float64\n",
      " 6   hospitalized                      12382 non-null  float64\n",
      " 7   hospitalizedCumulative            12382 non-null  float64\n",
      " 8   hospitalizedCurrently             17339 non-null  float64\n",
      " 9   hospitalizedIncrease              20780 non-null  int64  \n",
      " 10  inIcuCumulative                   3789 non-null   float64\n",
      " 11  inIcuCurrently                    11636 non-null  float64\n",
      " 12  negative                          13290 non-null  float64\n",
      " 13  negativeIncrease                  20780 non-null  int64  \n",
      " 14  negativeTestsAntibody             1458 non-null   float64\n",
      " 15  negativeTestsPeopleAntibody       972 non-null    float64\n",
      " 16  negativeTestsViral                5024 non-null   float64\n",
      " 17  onVentilatorCumulative            1290 non-null   float64\n",
      " 18  onVentilatorCurrently             9126 non-null   float64\n",
      " 19  positive                          20592 non-null  float64\n",
      " 20  positiveCasesViral                14246 non-null  float64\n",
      " 21  positiveIncrease                  20780 non-null  int64  \n",
      " 22  positiveScore                     20780 non-null  int64  \n",
      " 23  positiveTestsAntibody             3346 non-null   float64\n",
      " 24  positiveTestsAntigen              2233 non-null   float64\n",
      " 25  positiveTestsPeopleAntibody       1094 non-null   float64\n",
      " 26  positiveTestsPeopleAntigen        633 non-null    float64\n",
      " 27  positiveTestsViral                8958 non-null   float64\n",
      " 28  recovered                         12003 non-null  float64\n",
      " 29  totalTestEncountersViral          5231 non-null   float64\n",
      " 30  totalTestEncountersViralIncrease  20780 non-null  int64  \n",
      " 31  totalTestResults                  20614 non-null  float64\n",
      " 32  totalTestResultsIncrease          20780 non-null  int64  \n",
      " 33  totalTestsAntibody                4789 non-null   float64\n",
      " 34  totalTestsAntigen                 3421 non-null   float64\n",
      " 35  totalTestsPeopleAntibody          2200 non-null   float64\n",
      " 36  totalTestsPeopleAntigen           999 non-null    float64\n",
      " 37  totalTestsPeopleViral             9197 non-null   float64\n",
      " 38  totalTestsPeopleViralIncrease     20780 non-null  int64  \n",
      " 39  totalTestsViral                   14516 non-null  float64\n",
      " 40  totalTestsViralIncrease           20780 non-null  int64  \n",
      "dtypes: float64(30), int64(9), object(2)\n",
      "memory usage: 6.5+ MB\n"
     ]
    }
   ],
   "source": [
    "# Identificación de los tipos datos de las columnas\n",
    "df.info()"
   ]
  },
  {
   "cell_type": "markdown",
   "metadata": {},
   "source": [
    "## 3. Preparar datos\n",
    "\n",
    "* Crear nuevas columnas\n",
    "* Transformar columnas\n",
    "* Seleccionar las columnas sobre las que realizar EDA\n"
   ]
  },
  {
   "cell_type": "code",
   "execution_count": 38,
   "metadata": {},
   "outputs": [],
   "source": [
    "# Crear nuevas variables\n",
    "df['mortality_rate'] = (df['death'] / df['positive'] * 100).round(2)\n",
    "df['hospitalization_rate'] = (df['hospitalized'] / df['positive'] * 100).round(2)"
   ]
  },
  {
   "cell_type": "code",
   "execution_count": 39,
   "metadata": {},
   "outputs": [
    {
     "data": {
      "text/html": [
       "<div>\n",
       "<style scoped>\n",
       "    .dataframe tbody tr th:only-of-type {\n",
       "        vertical-align: middle;\n",
       "    }\n",
       "\n",
       "    .dataframe tbody tr th {\n",
       "        vertical-align: top;\n",
       "    }\n",
       "\n",
       "    .dataframe thead th {\n",
       "        text-align: right;\n",
       "    }\n",
       "</style>\n",
       "<table border=\"1\" class=\"dataframe\">\n",
       "  <thead>\n",
       "    <tr style=\"text-align: right;\">\n",
       "      <th></th>\n",
       "      <th>date</th>\n",
       "      <th>state</th>\n",
       "      <th>death</th>\n",
       "      <th>deathConfirmed</th>\n",
       "      <th>deathIncrease</th>\n",
       "      <th>deathProbable</th>\n",
       "      <th>hospitalized</th>\n",
       "      <th>hospitalizedCumulative</th>\n",
       "      <th>hospitalizedCurrently</th>\n",
       "      <th>hospitalizedIncrease</th>\n",
       "      <th>...</th>\n",
       "      <th>totalTestsAntibody</th>\n",
       "      <th>totalTestsAntigen</th>\n",
       "      <th>totalTestsPeopleAntibody</th>\n",
       "      <th>totalTestsPeopleAntigen</th>\n",
       "      <th>totalTestsPeopleViral</th>\n",
       "      <th>totalTestsPeopleViralIncrease</th>\n",
       "      <th>totalTestsViral</th>\n",
       "      <th>totalTestsViralIncrease</th>\n",
       "      <th>mortality_rate</th>\n",
       "      <th>hospitalization_rate</th>\n",
       "    </tr>\n",
       "  </thead>\n",
       "  <tbody>\n",
       "    <tr>\n",
       "      <th>20779</th>\n",
       "      <td>2020-01-13</td>\n",
       "      <td>WA</td>\n",
       "      <td>NaN</td>\n",
       "      <td>NaN</td>\n",
       "      <td>0</td>\n",
       "      <td>NaN</td>\n",
       "      <td>NaN</td>\n",
       "      <td>NaN</td>\n",
       "      <td>NaN</td>\n",
       "      <td>0</td>\n",
       "      <td>...</td>\n",
       "      <td>NaN</td>\n",
       "      <td>NaN</td>\n",
       "      <td>NaN</td>\n",
       "      <td>NaN</td>\n",
       "      <td>NaN</td>\n",
       "      <td>0</td>\n",
       "      <td>NaN</td>\n",
       "      <td>0</td>\n",
       "      <td>NaN</td>\n",
       "      <td>NaN</td>\n",
       "    </tr>\n",
       "    <tr>\n",
       "      <th>20778</th>\n",
       "      <td>2020-01-14</td>\n",
       "      <td>WA</td>\n",
       "      <td>NaN</td>\n",
       "      <td>NaN</td>\n",
       "      <td>0</td>\n",
       "      <td>NaN</td>\n",
       "      <td>NaN</td>\n",
       "      <td>NaN</td>\n",
       "      <td>NaN</td>\n",
       "      <td>0</td>\n",
       "      <td>...</td>\n",
       "      <td>NaN</td>\n",
       "      <td>NaN</td>\n",
       "      <td>NaN</td>\n",
       "      <td>NaN</td>\n",
       "      <td>NaN</td>\n",
       "      <td>0</td>\n",
       "      <td>NaN</td>\n",
       "      <td>0</td>\n",
       "      <td>NaN</td>\n",
       "      <td>NaN</td>\n",
       "    </tr>\n",
       "  </tbody>\n",
       "</table>\n",
       "<p>2 rows × 43 columns</p>\n",
       "</div>"
      ],
      "text/plain": [
       "             date state  death  deathConfirmed  deathIncrease  deathProbable  \\\n",
       "20779  2020-01-13    WA    NaN             NaN              0            NaN   \n",
       "20778  2020-01-14    WA    NaN             NaN              0            NaN   \n",
       "\n",
       "       hospitalized  hospitalizedCumulative  hospitalizedCurrently  \\\n",
       "20779           NaN                     NaN                    NaN   \n",
       "20778           NaN                     NaN                    NaN   \n",
       "\n",
       "       hospitalizedIncrease  ...  totalTestsAntibody  totalTestsAntigen  \\\n",
       "20779                     0  ...                 NaN                NaN   \n",
       "20778                     0  ...                 NaN                NaN   \n",
       "\n",
       "       totalTestsPeopleAntibody  totalTestsPeopleAntigen  \\\n",
       "20779                       NaN                      NaN   \n",
       "20778                       NaN                      NaN   \n",
       "\n",
       "       totalTestsPeopleViral  totalTestsPeopleViralIncrease  totalTestsViral  \\\n",
       "20779                    NaN                              0              NaN   \n",
       "20778                    NaN                              0              NaN   \n",
       "\n",
       "       totalTestsViralIncrease  mortality_rate  hospitalization_rate  \n",
       "20779                        0             NaN                   NaN  \n",
       "20778                        0             NaN                   NaN  \n",
       "\n",
       "[2 rows x 43 columns]"
      ]
     },
     "execution_count": 39,
     "metadata": {},
     "output_type": "execute_result"
    }
   ],
   "source": [
    "# Convertir la fecha a formato datetime\n",
    "# df['date'] = pd.to_datetime(df['date'], format='%Y%m%d')\n",
    "\n",
    "# Ordenar por fecha\n",
    "df = df.sort_values('date')\n",
    "df.head(2)"
   ]
  },
  {
   "cell_type": "code",
   "execution_count": 40,
   "metadata": {},
   "outputs": [
    {
     "name": "stdout",
     "output_type": "stream",
     "text": [
      "['WA' 'MA' 'VA' 'FL' 'NJ' 'NE' 'IN' 'CT' 'MI' 'RI' 'WY' 'NY' 'TX' 'VT'\n",
      " 'WI' 'PA' 'IL' 'HI' 'CO' 'NC' 'CA' 'AZ' 'GA' 'NH' 'SC' 'OR' 'MD' 'DC'\n",
      " 'OH' 'TN' 'NV' 'NM' 'KY' 'IA' 'DE' 'AR' 'AK' 'MN' 'KS' 'WV' 'ME' 'ID'\n",
      " 'LA' 'AL' 'MO' 'MT' 'UT' 'SD' 'MS' 'ND' 'OK' 'GU' 'AS' 'MP' 'VI' 'PR']\n"
     ]
    }
   ],
   "source": [
    "# Mostrar los valores únicos de la columna \"state\"\n",
    "valores_unicos_state = df['state'].unique()\n",
    "print(valores_unicos_state)"
   ]
  },
  {
   "cell_type": "code",
   "execution_count": 41,
   "metadata": {},
   "outputs": [
    {
     "data": {
      "text/plain": [
       "Index(['date', 'state', 'death', 'deathConfirmed', 'deathIncrease',\n",
       "       'deathProbable', 'hospitalized', 'hospitalizedCumulative',\n",
       "       'hospitalizedCurrently', 'hospitalizedIncrease', 'inIcuCumulative',\n",
       "       'inIcuCurrently', 'negative', 'negativeIncrease',\n",
       "       'negativeTestsAntibody', 'negativeTestsPeopleAntibody',\n",
       "       'negativeTestsViral', 'onVentilatorCumulative', 'onVentilatorCurrently',\n",
       "       'positive', 'positiveCasesViral', 'positiveIncrease', 'positiveScore',\n",
       "       'positiveTestsAntibody', 'positiveTestsAntigen',\n",
       "       'positiveTestsPeopleAntibody', 'positiveTestsPeopleAntigen',\n",
       "       'positiveTestsViral', 'recovered', 'totalTestEncountersViral',\n",
       "       'totalTestEncountersViralIncrease', 'totalTestResults',\n",
       "       'totalTestResultsIncrease', 'totalTestsAntibody', 'totalTestsAntigen',\n",
       "       'totalTestsPeopleAntibody', 'totalTestsPeopleAntigen',\n",
       "       'totalTestsPeopleViral', 'totalTestsPeopleViralIncrease',\n",
       "       'totalTestsViral', 'totalTestsViralIncrease', 'mortality_rate',\n",
       "       'hospitalization_rate'],\n",
       "      dtype='object')"
      ]
     },
     "execution_count": 41,
     "metadata": {},
     "output_type": "execute_result"
    }
   ],
   "source": [
    "# Explorar columnas del dataset, para crear,transformar y eliminar las que sean necesarias para el análisis\n",
    "df.columns"
   ]
  },
  {
   "cell_type": "code",
   "execution_count": 42,
   "metadata": {},
   "outputs": [
    {
     "data": {
      "text/html": [
       "<div>\n",
       "<style scoped>\n",
       "    .dataframe tbody tr th:only-of-type {\n",
       "        vertical-align: middle;\n",
       "    }\n",
       "\n",
       "    .dataframe tbody tr th {\n",
       "        vertical-align: top;\n",
       "    }\n",
       "\n",
       "    .dataframe thead th {\n",
       "        text-align: right;\n",
       "    }\n",
       "</style>\n",
       "<table border=\"1\" class=\"dataframe\">\n",
       "  <thead>\n",
       "    <tr style=\"text-align: right;\">\n",
       "      <th></th>\n",
       "      <th>date</th>\n",
       "      <th>state</th>\n",
       "      <th>positive</th>\n",
       "      <th>negative</th>\n",
       "      <th>hospitalized</th>\n",
       "      <th>death</th>\n",
       "      <th>totalTestResults</th>\n",
       "      <th>mortality_rate</th>\n",
       "      <th>hospitalization_rate</th>\n",
       "    </tr>\n",
       "  </thead>\n",
       "  <tbody>\n",
       "    <tr>\n",
       "      <th>20779</th>\n",
       "      <td>2020-01-13</td>\n",
       "      <td>WA</td>\n",
       "      <td>NaN</td>\n",
       "      <td>NaN</td>\n",
       "      <td>NaN</td>\n",
       "      <td>NaN</td>\n",
       "      <td>NaN</td>\n",
       "      <td>NaN</td>\n",
       "      <td>NaN</td>\n",
       "    </tr>\n",
       "    <tr>\n",
       "      <th>20778</th>\n",
       "      <td>2020-01-14</td>\n",
       "      <td>WA</td>\n",
       "      <td>0.0</td>\n",
       "      <td>NaN</td>\n",
       "      <td>NaN</td>\n",
       "      <td>NaN</td>\n",
       "      <td>NaN</td>\n",
       "      <td>NaN</td>\n",
       "      <td>NaN</td>\n",
       "    </tr>\n",
       "    <tr>\n",
       "      <th>20777</th>\n",
       "      <td>2020-01-15</td>\n",
       "      <td>WA</td>\n",
       "      <td>0.0</td>\n",
       "      <td>NaN</td>\n",
       "      <td>NaN</td>\n",
       "      <td>NaN</td>\n",
       "      <td>NaN</td>\n",
       "      <td>NaN</td>\n",
       "      <td>NaN</td>\n",
       "    </tr>\n",
       "    <tr>\n",
       "      <th>20776</th>\n",
       "      <td>2020-01-16</td>\n",
       "      <td>WA</td>\n",
       "      <td>0.0</td>\n",
       "      <td>NaN</td>\n",
       "      <td>NaN</td>\n",
       "      <td>NaN</td>\n",
       "      <td>NaN</td>\n",
       "      <td>NaN</td>\n",
       "      <td>NaN</td>\n",
       "    </tr>\n",
       "    <tr>\n",
       "      <th>20775</th>\n",
       "      <td>2020-01-17</td>\n",
       "      <td>WA</td>\n",
       "      <td>0.0</td>\n",
       "      <td>NaN</td>\n",
       "      <td>NaN</td>\n",
       "      <td>NaN</td>\n",
       "      <td>NaN</td>\n",
       "      <td>NaN</td>\n",
       "      <td>NaN</td>\n",
       "    </tr>\n",
       "  </tbody>\n",
       "</table>\n",
       "</div>"
      ],
      "text/plain": [
       "             date state  positive  negative  hospitalized  death  \\\n",
       "20779  2020-01-13    WA       NaN       NaN           NaN    NaN   \n",
       "20778  2020-01-14    WA       0.0       NaN           NaN    NaN   \n",
       "20777  2020-01-15    WA       0.0       NaN           NaN    NaN   \n",
       "20776  2020-01-16    WA       0.0       NaN           NaN    NaN   \n",
       "20775  2020-01-17    WA       0.0       NaN           NaN    NaN   \n",
       "\n",
       "       totalTestResults  mortality_rate  hospitalization_rate  \n",
       "20779               NaN             NaN                   NaN  \n",
       "20778               NaN             NaN                   NaN  \n",
       "20777               NaN             NaN                   NaN  \n",
       "20776               NaN             NaN                   NaN  \n",
       "20775               NaN             NaN                   NaN  "
      ]
     },
     "execution_count": 42,
     "metadata": {},
     "output_type": "execute_result"
    }
   ],
   "source": [
    "# Se seleccionan las columnas que interesan para las estadísticas\n",
    "df_hist = df[['date', 'state', 'positive', 'negative', 'hospitalized', 'death', 'totalTestResults', 'mortality_rate','hospitalization_rate' ]]\n",
    "df_hist.head(5)"
   ]
  },
  {
   "cell_type": "markdown",
   "metadata": {},
   "source": [
    "2. ***Conversión de Formatos***\n",
    "\n",
    "Aseguramos que las columnas están en los formatos de datos adecuados."
   ]
  },
  {
   "cell_type": "code",
   "execution_count": 43,
   "metadata": {},
   "outputs": [
    {
     "name": "stdout",
     "output_type": "stream",
     "text": [
      "<class 'pandas.core.frame.DataFrame'>\n",
      "Index: 20780 entries, 20779 to 0\n",
      "Data columns (total 9 columns):\n",
      " #   Column                Non-Null Count  Dtype  \n",
      "---  ------                --------------  -----  \n",
      " 0   date                  20780 non-null  object \n",
      " 1   state                 20780 non-null  object \n",
      " 2   positive              20592 non-null  float64\n",
      " 3   negative              13290 non-null  float64\n",
      " 4   hospitalized          12382 non-null  float64\n",
      " 5   death                 19930 non-null  float64\n",
      " 6   totalTestResults      20614 non-null  float64\n",
      " 7   mortality_rate        19524 non-null  float64\n",
      " 8   hospitalization_rate  12374 non-null  float64\n",
      "dtypes: float64(7), object(2)\n",
      "memory usage: 1.6+ MB\n"
     ]
    }
   ],
   "source": [
    "# Información general del DataFrame para asegurar que el tipo de datos es correcto para las estadísticas\n",
    "df_hist.info()"
   ]
  },
  {
   "cell_type": "markdown",
   "metadata": {},
   "source": [
    "3. ***Exploración Inicial***\n",
    "\n",
    "Realizaremos una exploración inicial de los datos para entender la estructura y posibles valores faltantes."
   ]
  },
  {
   "cell_type": "code",
   "execution_count": 44,
   "metadata": {},
   "outputs": [
    {
     "data": {
      "text/plain": [
       "date                       0\n",
       "state                      0\n",
       "positive                 188\n",
       "negative                7490\n",
       "hospitalized            8398\n",
       "death                    850\n",
       "totalTestResults         166\n",
       "mortality_rate          1256\n",
       "hospitalization_rate    8406\n",
       "dtype: int64"
      ]
     },
     "execution_count": 44,
     "metadata": {},
     "output_type": "execute_result"
    }
   ],
   "source": [
    "# Verificar valores nulos\n",
    "df_hist.isnull().sum()"
   ]
  },
  {
   "cell_type": "code",
   "execution_count": 45,
   "metadata": {},
   "outputs": [
    {
     "name": "stdout",
     "output_type": "stream",
     "text": [
      "positive 188 / 20780= 0.90 %\n",
      "negative 7490 / 20780= 36.04 %\n",
      "hospitalized 8398 / 20780= 40.41 %\n",
      "death 850 / 20780= 4.09 %\n",
      "totalTestResults 166 / 20780= 0.80 %\n",
      "mortality_rate 1256 / 20780= 6.04 %\n",
      "hospitalization_rate 8406 / 20780= 40.45 %\n"
     ]
    }
   ],
   "source": [
    "# Porcentaje de datos faltantes\n",
    "util.calc_missing(df_hist)"
   ]
  },
  {
   "cell_type": "markdown",
   "metadata": {},
   "source": [
    "4. ***Tratamiento de Valores Faltantes***\n",
    "\n",
    "Es importante manejar los valores faltantes de acuerdo a la naturaleza de los datos."
   ]
  },
  {
   "cell_type": "code",
   "execution_count": 46,
   "metadata": {},
   "outputs": [
    {
     "data": {
      "text/html": [
       "<div>\n",
       "<style scoped>\n",
       "    .dataframe tbody tr th:only-of-type {\n",
       "        vertical-align: middle;\n",
       "    }\n",
       "\n",
       "    .dataframe tbody tr th {\n",
       "        vertical-align: top;\n",
       "    }\n",
       "\n",
       "    .dataframe thead th {\n",
       "        text-align: right;\n",
       "    }\n",
       "</style>\n",
       "<table border=\"1\" class=\"dataframe\">\n",
       "  <thead>\n",
       "    <tr style=\"text-align: right;\">\n",
       "      <th></th>\n",
       "      <th>positive</th>\n",
       "      <th>negative</th>\n",
       "      <th>hospitalized</th>\n",
       "      <th>death</th>\n",
       "      <th>totalTestResults</th>\n",
       "      <th>mortality_rate</th>\n",
       "      <th>hospitalization_rate</th>\n",
       "    </tr>\n",
       "  </thead>\n",
       "  <tbody>\n",
       "    <tr>\n",
       "      <th>count</th>\n",
       "      <td>20592.0</td>\n",
       "      <td>13290.0</td>\n",
       "      <td>12382.0</td>\n",
       "      <td>19930.0</td>\n",
       "      <td>20614.0</td>\n",
       "      <td>19524.0</td>\n",
       "      <td>12374.0</td>\n",
       "    </tr>\n",
       "    <tr>\n",
       "      <th>mean</th>\n",
       "      <td>165156.0</td>\n",
       "      <td>848224.6</td>\n",
       "      <td>9262.8</td>\n",
       "      <td>3682.2</td>\n",
       "      <td>2186935.8</td>\n",
       "      <td>2.8</td>\n",
       "      <td>9.2</td>\n",
       "    </tr>\n",
       "    <tr>\n",
       "      <th>std</th>\n",
       "      <td>326785.2</td>\n",
       "      <td>1344501.4</td>\n",
       "      <td>12620.5</td>\n",
       "      <td>6281.4</td>\n",
       "      <td>4436508.2</td>\n",
       "      <td>2.0</td>\n",
       "      <td>9.1</td>\n",
       "    </tr>\n",
       "    <tr>\n",
       "      <th>min</th>\n",
       "      <td>0.0</td>\n",
       "      <td>0.0</td>\n",
       "      <td>1.0</td>\n",
       "      <td>0.0</td>\n",
       "      <td>0.0</td>\n",
       "      <td>0.0</td>\n",
       "      <td>1.4</td>\n",
       "    </tr>\n",
       "    <tr>\n",
       "      <th>25%</th>\n",
       "      <td>5753.8</td>\n",
       "      <td>53941.2</td>\n",
       "      <td>985.2</td>\n",
       "      <td>161.2</td>\n",
       "      <td>104049.8</td>\n",
       "      <td>1.4</td>\n",
       "      <td>5.3</td>\n",
       "    </tr>\n",
       "    <tr>\n",
       "      <th>50%</th>\n",
       "      <td>46064.5</td>\n",
       "      <td>305972.0</td>\n",
       "      <td>4472.0</td>\n",
       "      <td>1108.0</td>\n",
       "      <td>655267.0</td>\n",
       "      <td>2.0</td>\n",
       "      <td>7.5</td>\n",
       "    </tr>\n",
       "    <tr>\n",
       "      <th>75%</th>\n",
       "      <td>177958.0</td>\n",
       "      <td>1056611.2</td>\n",
       "      <td>12248.5</td>\n",
       "      <td>4387.5</td>\n",
       "      <td>2264766.5</td>\n",
       "      <td>3.5</td>\n",
       "      <td>11.1</td>\n",
       "    </tr>\n",
       "    <tr>\n",
       "      <th>max</th>\n",
       "      <td>3501394.0</td>\n",
       "      <td>10186941.0</td>\n",
       "      <td>82237.0</td>\n",
       "      <td>54124.0</td>\n",
       "      <td>49646014.0</td>\n",
       "      <td>50.0</td>\n",
       "      <td>300.0</td>\n",
       "    </tr>\n",
       "  </tbody>\n",
       "</table>\n",
       "</div>"
      ],
      "text/plain": [
       "        positive    negative  hospitalized    death  totalTestResults  \\\n",
       "count    20592.0     13290.0       12382.0  19930.0           20614.0   \n",
       "mean    165156.0    848224.6        9262.8   3682.2         2186935.8   \n",
       "std     326785.2   1344501.4       12620.5   6281.4         4436508.2   \n",
       "min          0.0         0.0           1.0      0.0               0.0   \n",
       "25%       5753.8     53941.2         985.2    161.2          104049.8   \n",
       "50%      46064.5    305972.0        4472.0   1108.0          655267.0   \n",
       "75%     177958.0   1056611.2       12248.5   4387.5         2264766.5   \n",
       "max    3501394.0  10186941.0       82237.0  54124.0        49646014.0   \n",
       "\n",
       "       mortality_rate  hospitalization_rate  \n",
       "count         19524.0               12374.0  \n",
       "mean              2.8                   9.2  \n",
       "std               2.0                   9.1  \n",
       "min               0.0                   1.4  \n",
       "25%               1.4                   5.3  \n",
       "50%               2.0                   7.5  \n",
       "75%               3.5                  11.1  \n",
       "max              50.0                 300.0  "
      ]
     },
     "execution_count": 46,
     "metadata": {},
     "output_type": "execute_result"
    }
   ],
   "source": [
    "# Estadísticas descriptivas\n",
    "df_hist.describe().round(1)"
   ]
  },
  {
   "cell_type": "code",
   "execution_count": 47,
   "metadata": {},
   "outputs": [
    {
     "data": {
      "text/plain": [
       "<Axes: >"
      ]
     },
     "execution_count": 47,
     "metadata": {},
     "output_type": "execute_result"
    },
    {
     "data": {
      "image/png": "[encoded data removed]",
      "text/plain": [
       "<Figure size 2500x1000 with 2 Axes>"
      ]
     },
     "metadata": {},
     "output_type": "display_data"
    }
   ],
   "source": [
    "%matplotlib inline\n",
    "msno.matrix(df_hist)"
   ]
  },
  {
   "cell_type": "markdown",
   "metadata": {},
   "source": [
    "#####  Rellenar las columnas que contienen valore nulos.\n",
    "\n",
    "* Imputar valores faltantes en columnas numéricas con la media"
   ]
  },
  {
   "cell_type": "code",
   "execution_count": 48,
   "metadata": {},
   "outputs": [
    {
     "data": {
      "text/html": [
       "<div>\n",
       "<style scoped>\n",
       "    .dataframe tbody tr th:only-of-type {\n",
       "        vertical-align: middle;\n",
       "    }\n",
       "\n",
       "    .dataframe tbody tr th {\n",
       "        vertical-align: top;\n",
       "    }\n",
       "\n",
       "    .dataframe thead th {\n",
       "        text-align: right;\n",
       "    }\n",
       "</style>\n",
       "<table border=\"1\" class=\"dataframe\">\n",
       "  <thead>\n",
       "    <tr style=\"text-align: right;\">\n",
       "      <th></th>\n",
       "      <th>date</th>\n",
       "      <th>state</th>\n",
       "      <th>positive</th>\n",
       "      <th>negative</th>\n",
       "      <th>hospitalized</th>\n",
       "      <th>death</th>\n",
       "      <th>totalTestResults</th>\n",
       "      <th>mortality_rate</th>\n",
       "      <th>hospitalization_rate</th>\n",
       "    </tr>\n",
       "  </thead>\n",
       "  <tbody>\n",
       "    <tr>\n",
       "      <th>28</th>\n",
       "      <td>2021-03-07</td>\n",
       "      <td>MS</td>\n",
       "      <td>297581.0</td>\n",
       "      <td>1.459374e+06</td>\n",
       "      <td>9162.0</td>\n",
       "      <td>6808.0</td>\n",
       "      <td>1756955.0</td>\n",
       "      <td>2.29</td>\n",
       "      <td>3.08</td>\n",
       "    </tr>\n",
       "    <tr>\n",
       "      <th>0</th>\n",
       "      <td>2021-03-07</td>\n",
       "      <td>AK</td>\n",
       "      <td>56886.0</td>\n",
       "      <td>8.482246e+05</td>\n",
       "      <td>1293.0</td>\n",
       "      <td>305.0</td>\n",
       "      <td>1731628.0</td>\n",
       "      <td>0.54</td>\n",
       "      <td>2.27</td>\n",
       "    </tr>\n",
       "  </tbody>\n",
       "</table>\n",
       "</div>"
      ],
      "text/plain": [
       "          date state  positive      negative  hospitalized   death  \\\n",
       "28  2021-03-07    MS  297581.0  1.459374e+06        9162.0  6808.0   \n",
       "0   2021-03-07    AK   56886.0  8.482246e+05        1293.0   305.0   \n",
       "\n",
       "    totalTestResults  mortality_rate  hospitalization_rate  \n",
       "28         1756955.0            2.29                  3.08  \n",
       "0          1731628.0            0.54                  2.27  "
      ]
     },
     "execution_count": 48,
     "metadata": {},
     "output_type": "execute_result"
    }
   ],
   "source": [
    "# Filtrar solo las columnas numéricas\n",
    "numeric_columns = df_hist.select_dtypes(include=['number']).columns\n",
    "\n",
    "# Imputar valores faltantes en columnas numéricas con la media\n",
    "df_hist[numeric_columns] = df_hist[numeric_columns].fillna(df_hist[numeric_columns].mean())\n",
    "\n",
    "df_hist.tail(2)\n"
   ]
  },
  {
   "cell_type": "markdown",
   "metadata": {},
   "source": [
    "Verificar si todavia hay valores nulos para las columnas selecionadas"
   ]
  },
  {
   "cell_type": "code",
   "execution_count": 49,
   "metadata": {},
   "outputs": [
    {
     "data": {
      "text/plain": [
       "date                    0\n",
       "state                   0\n",
       "positive                0\n",
       "negative                0\n",
       "hospitalized            0\n",
       "death                   0\n",
       "totalTestResults        0\n",
       "mortality_rate          0\n",
       "hospitalization_rate    0\n",
       "dtype: int64"
      ]
     },
     "execution_count": 49,
     "metadata": {},
     "output_type": "execute_result"
    }
   ],
   "source": [
    "df_hist.isnull().sum()"
   ]
  },
  {
   "cell_type": "markdown",
   "metadata": {},
   "source": [
    "5. ***Tratamiento de outliers***\n",
    "\n",
    "Empezamos por analizar si hay valores atípico en nuestro conjunto de datos y luego identificamos por medio de las gráficas de bigotes (BoxPlot), cuáles son los valores que están fuera del Rango Intercuartil\"."
   ]
  },
  {
   "cell_type": "code",
   "execution_count": 50,
   "metadata": {},
   "outputs": [],
   "source": [
    "# funcion que dado un determinado dataframe genera una tabla con los valores de parámetros de Cuartiles que vamos aplicar en el\n",
    "# tramamiento de Outiers.\n",
    "def calcular_estadisticas(df_hist):\n",
    "    # Crear un nuevo DataFrame para almacenar los resultados de los cuartiles\n",
    "    resultados_df = pd.DataFrame(\n",
    "        columns=[\n",
    "            \"Columna\",\n",
    "            \"Cuartil 0.25\",\n",
    "            \"Cuartil 0.50\",\n",
    "            \"Cuartil 0.75\",\n",
    "            \"Rango intercuartil\",\n",
    "        ]\n",
    "    )\n",
    "\n",
    "    # Crea una lista con las variables que queremos verificar los cuartiles\n",
    "    numeric_columns = [\n",
    "        \"positive\",\n",
    "        \"negative\",\n",
    "        \"hospitalized\",\n",
    "        \"death\",\n",
    "        \"totalTestResults\",\n",
    "        \"mortality_rate\",\n",
    "        \"hospitalization_rate\",\n",
    "    ]\n",
    "\n",
    "\n",
    "    # Calcular los cuartiles y los rangos intercuartiles para cada columna\n",
    "    for columna in numeric_columns:\n",
    "        Q1 = df_hist[columna].quantile(0.25)\n",
    "        Q2 = df_hist[columna].quantile(0.50)\n",
    "        Q3 = df_hist[columna].quantile(0.75)\n",
    "        IQR = Q3 - Q1\n",
    "        limite_inferior = Q1 - 1.5 * IQR\n",
    "        limite_superior = Q3 + 1.5 * IQR\n",
    "\n",
    "        new_row = pd.DataFrame(\n",
    "            {\n",
    "                \"Columna\": columna,\n",
    "                \"Cuartil 0.25\": Q1,\n",
    "                \"Cuartil 0.50\": Q2,\n",
    "                \"Cuartil 0.75\": Q3,\n",
    "                \"Rango intercuartil\": IQR,\n",
    "                \"Limite inferior\": limite_inferior,\n",
    "                \"Limite superior\": limite_superior,\n",
    "            },\n",
    "            index=[0],\n",
    "        )\n",
    "\n",
    "        resultados_df = pd.concat([resultados_df, new_row], ignore_index=True)\n",
    "\n",
    "    # retorna un nuevo DataFrame (resultados_df) con los resultados\n",
    "    return resultados_df.head(15).round(2)"
   ]
  },
  {
   "cell_type": "code",
   "execution_count": 51,
   "metadata": {},
   "outputs": [
    {
     "name": "stdout",
     "output_type": "stream",
     "text": [
      "CPU times: total: 0 ns\n",
      "Wall time: 15.7 ms\n"
     ]
    },
    {
     "data": {
      "text/html": [
       "<div>\n",
       "<style scoped>\n",
       "    .dataframe tbody tr th:only-of-type {\n",
       "        vertical-align: middle;\n",
       "    }\n",
       "\n",
       "    .dataframe tbody tr th {\n",
       "        vertical-align: top;\n",
       "    }\n",
       "\n",
       "    .dataframe thead th {\n",
       "        text-align: right;\n",
       "    }\n",
       "</style>\n",
       "<table border=\"1\" class=\"dataframe\">\n",
       "  <thead>\n",
       "    <tr style=\"text-align: right;\">\n",
       "      <th></th>\n",
       "      <th>Columna</th>\n",
       "      <th>Cuartil 0.25</th>\n",
       "      <th>Cuartil 0.50</th>\n",
       "      <th>Cuartil 0.75</th>\n",
       "      <th>Rango intercuartil</th>\n",
       "      <th>Limite inferior</th>\n",
       "      <th>Limite superior</th>\n",
       "    </tr>\n",
       "  </thead>\n",
       "  <tbody>\n",
       "    <tr>\n",
       "      <th>0</th>\n",
       "      <td>positive</td>\n",
       "      <td>5905.75</td>\n",
       "      <td>47410.00</td>\n",
       "      <td>175614.00</td>\n",
       "      <td>169708.25</td>\n",
       "      <td>-248656.62</td>\n",
       "      <td>430176.38</td>\n",
       "    </tr>\n",
       "    <tr>\n",
       "      <th>1</th>\n",
       "      <td>negative</td>\n",
       "      <td>178087.75</td>\n",
       "      <td>848224.62</td>\n",
       "      <td>848224.62</td>\n",
       "      <td>670136.87</td>\n",
       "      <td>-827117.56</td>\n",
       "      <td>1853429.93</td>\n",
       "    </tr>\n",
       "    <tr>\n",
       "      <th>2</th>\n",
       "      <td>hospitalized</td>\n",
       "      <td>2927.50</td>\n",
       "      <td>9262.76</td>\n",
       "      <td>9262.76</td>\n",
       "      <td>6335.26</td>\n",
       "      <td>-6575.39</td>\n",
       "      <td>18765.66</td>\n",
       "    </tr>\n",
       "    <tr>\n",
       "      <th>3</th>\n",
       "      <td>death</td>\n",
       "      <td>183.00</td>\n",
       "      <td>1260.50</td>\n",
       "      <td>4159.00</td>\n",
       "      <td>3976.00</td>\n",
       "      <td>-5781.00</td>\n",
       "      <td>10123.00</td>\n",
       "    </tr>\n",
       "    <tr>\n",
       "      <th>4</th>\n",
       "      <td>totalTestResults</td>\n",
       "      <td>106460.25</td>\n",
       "      <td>670234.50</td>\n",
       "      <td>2243481.25</td>\n",
       "      <td>2137021.00</td>\n",
       "      <td>-3099071.25</td>\n",
       "      <td>5449012.75</td>\n",
       "    </tr>\n",
       "    <tr>\n",
       "      <th>5</th>\n",
       "      <td>mortality_rate</td>\n",
       "      <td>1.48</td>\n",
       "      <td>2.18</td>\n",
       "      <td>3.39</td>\n",
       "      <td>1.91</td>\n",
       "      <td>-1.39</td>\n",
       "      <td>6.26</td>\n",
       "    </tr>\n",
       "    <tr>\n",
       "      <th>6</th>\n",
       "      <td>hospitalization_rate</td>\n",
       "      <td>6.68</td>\n",
       "      <td>9.16</td>\n",
       "      <td>9.16</td>\n",
       "      <td>2.48</td>\n",
       "      <td>2.95</td>\n",
       "      <td>12.89</td>\n",
       "    </tr>\n",
       "  </tbody>\n",
       "</table>\n",
       "</div>"
      ],
      "text/plain": [
       "                Columna  Cuartil 0.25  Cuartil 0.50  Cuartil 0.75  \\\n",
       "0              positive       5905.75      47410.00     175614.00   \n",
       "1              negative     178087.75     848224.62     848224.62   \n",
       "2          hospitalized       2927.50       9262.76       9262.76   \n",
       "3                 death        183.00       1260.50       4159.00   \n",
       "4      totalTestResults     106460.25     670234.50    2243481.25   \n",
       "5        mortality_rate          1.48          2.18          3.39   \n",
       "6  hospitalization_rate          6.68          9.16          9.16   \n",
       "\n",
       "   Rango intercuartil  Limite inferior  Limite superior  \n",
       "0           169708.25       -248656.62        430176.38  \n",
       "1           670136.87       -827117.56       1853429.93  \n",
       "2             6335.26         -6575.39         18765.66  \n",
       "3             3976.00         -5781.00         10123.00  \n",
       "4          2137021.00      -3099071.25       5449012.75  \n",
       "5                1.91            -1.39             6.26  \n",
       "6                2.48             2.95            12.89  "
      ]
     },
     "execution_count": 51,
     "metadata": {},
     "output_type": "execute_result"
    }
   ],
   "source": [
    "%%time \n",
    "# LLama la función para conocernos los valores de los parámetros del procesos de los cuartiles que iremos aplicar a \n",
    "# nuestro conjunto de datos. Esta tabla tambien sirve para la documentación del proyecto.\n",
    "calcular_estadisticas(df_hist)"
   ]
  },
  {
   "cell_type": "markdown",
   "metadata": {},
   "source": [
    "### Gráficas (Situación Actual)\n",
    "\n",
    "Diagrama de Caja y Bigotes (BoxPlot)"
   ]
  },
  {
   "cell_type": "code",
   "execution_count": 52,
   "metadata": {},
   "outputs": [],
   "source": [
    "# Genera la gráfica de Bigote con todas las variables juntas\n",
    "def generar_grafica_boxplot(dataframe):\n",
    "    # Definir el tamaño de la figura\n",
    "    plt.figure(figsize=(12, 8))  # ancho/alto\n",
    "\n",
    "    # Configuración del layout de la gráfica\n",
    "    plt.grid(True)  # Mostrar cuadrícula\n",
    "    plt.xticks(rotation=45)  # Rotar etiquetas del eje x\n",
    "    # plt.yticks(rotation=45)   # Rotar etiquetas del eje y\n",
    "    plt.yticks(range(0, 301, 30))  # Rango de valores en el eje y\n",
    "    plt.rcParams.update({\"font.size\": 10})  # Cambiar tamaño de la fuente\n",
    "\n",
    "    # Código para generar la gráfica\n",
    "    boxplot = dataframe.boxplot(\n",
    "        column=[\n",
    "        \"positive\",\n",
    "        \"negative\",\n",
    "        \"hospitalized\",\n",
    "        \"death\",\n",
    "        \"totalTestResults\",\n",
    "        \"mortality_rate\",\n",
    "        \"hospitalization_rate\",\n",
    "        ],\n",
    "        return_type=\"axes\",\n",
    "        showmeans=True\n",
    "    )\n",
    "    return boxplot"
   ]
  },
  {
   "cell_type": "code",
   "execution_count": 53,
   "metadata": {},
   "outputs": [
    {
     "name": "stdout",
     "output_type": "stream",
     "text": [
      "CPU times: total: 0 ns\n",
      "Wall time: 92.9 ms\n"
     ]
    },
    {
     "data": {
      "text/plain": [
       "matplotlib.axes._axes.Axes"
      ]
     },
     "execution_count": 53,
     "metadata": {},
     "output_type": "execute_result"
    },
    {
     "data": {
      "image/png": "[encoded data removed]",
      "text/plain": [
       "<Figure size 1200x800 with 1 Axes>"
      ]
     },
     "metadata": {},
     "output_type": "display_data"
    }
   ],
   "source": [
    "%%time \n",
    "# Llamada a la función\n",
    "grafica = generar_grafica_boxplot(df_hist)\n",
    "type(grafica)"
   ]
  },
  {
   "cell_type": "markdown",
   "metadata": {},
   "source": [
    "Proceso de limpieza de outliers"
   ]
  },
  {
   "cell_type": "code",
   "execution_count": 54,
   "metadata": {},
   "outputs": [],
   "source": [
    "# Define una función llamada \"outliers\" que devuelve una lista de valores atípicos basados em el IQR\n",
    "# IQR = Q3 - Q1\n",
    "# +/- 1.5*IQR\n",
    "\n",
    "def outliers(df_hist, ft):\n",
    "    Q1 = df_hist[ft].quantile(0.25)\n",
    "    Q3 = df_hist[ft].quantile(0.75)\n",
    "    IQR = Q3 - Q1\n",
    "\n",
    "    limite_inferior = Q1 - 1.5 * IQR\n",
    "    limite_superior = Q3 + 1.5 * IQR\n",
    "\n",
    "    ls = df_hist.index[(df_hist[ft] < limite_inferior) | (df_hist[ft] > limite_superior)]\n",
    "\n",
    "    return ls"
   ]
  },
  {
   "cell_type": "code",
   "execution_count": 55,
   "metadata": {},
   "outputs": [
    {
     "name": "stdout",
     "output_type": "stream",
     "text": [
      "CPU times: total: 0 ns\n",
      "Wall time: 11.5 ms\n"
     ]
    }
   ],
   "source": [
    "%%time \n",
    "# Busca y recopila los índices de los valores atípicos (outliers) en las columnas especificadas del conjunto de datos \"data\"\n",
    "\n",
    "# crea una lista vacía para almacenar los índices\n",
    "index_list = []\n",
    "for column in [\n",
    "        \"positive\",\n",
    "        \"negative\",\n",
    "        \"hospitalized\",\n",
    "        \"death\",\n",
    "        \"totalTestResults\",\n",
    "        \"mortality_rate\",\n",
    "        \"hospitalization_rate\",\n",
    "]:\n",
    "        index_list.extend(outliers(df_hist, column))"
   ]
  },
  {
   "cell_type": "code",
   "execution_count": 56,
   "metadata": {},
   "outputs": [],
   "source": [
    "# Define una función que devuelve un dataframe (marco de datos) limpio, sin valores atípicos\n",
    "def eliminar(df_hist, columna):\n",
    "    columna = sorted(set(columna))\n",
    "    df_hist = df_hist.drop(columna)\n",
    "    return df_hist"
   ]
  },
  {
   "cell_type": "code",
   "execution_count": 57,
   "metadata": {},
   "outputs": [
    {
     "name": "stdout",
     "output_type": "stream",
     "text": [
      "CPU times: total: 15.6 ms\n",
      "Wall time: 3 ms\n"
     ]
    },
    {
     "data": {
      "text/html": [
       "<div>\n",
       "<style scoped>\n",
       "    .dataframe tbody tr th:only-of-type {\n",
       "        vertical-align: middle;\n",
       "    }\n",
       "\n",
       "    .dataframe tbody tr th {\n",
       "        vertical-align: top;\n",
       "    }\n",
       "\n",
       "    .dataframe thead th {\n",
       "        text-align: right;\n",
       "    }\n",
       "</style>\n",
       "<table border=\"1\" class=\"dataframe\">\n",
       "  <thead>\n",
       "    <tr style=\"text-align: right;\">\n",
       "      <th></th>\n",
       "      <th>date</th>\n",
       "      <th>state</th>\n",
       "      <th>positive</th>\n",
       "      <th>negative</th>\n",
       "      <th>hospitalized</th>\n",
       "      <th>death</th>\n",
       "      <th>totalTestResults</th>\n",
       "      <th>mortality_rate</th>\n",
       "      <th>hospitalization_rate</th>\n",
       "    </tr>\n",
       "  </thead>\n",
       "  <tbody>\n",
       "    <tr>\n",
       "      <th>20779</th>\n",
       "      <td>2020-01-13</td>\n",
       "      <td>WA</td>\n",
       "      <td>165155.96926</td>\n",
       "      <td>848224.622047</td>\n",
       "      <td>9262.762478</td>\n",
       "      <td>3682.216859</td>\n",
       "      <td>2.186936e+06</td>\n",
       "      <td>2.763952</td>\n",
       "      <td>9.164449</td>\n",
       "    </tr>\n",
       "    <tr>\n",
       "      <th>20778</th>\n",
       "      <td>2020-01-14</td>\n",
       "      <td>WA</td>\n",
       "      <td>0.00000</td>\n",
       "      <td>848224.622047</td>\n",
       "      <td>9262.762478</td>\n",
       "      <td>3682.216859</td>\n",
       "      <td>2.186936e+06</td>\n",
       "      <td>2.763952</td>\n",
       "      <td>9.164449</td>\n",
       "    </tr>\n",
       "  </tbody>\n",
       "</table>\n",
       "</div>"
      ],
      "text/plain": [
       "             date state      positive       negative  hospitalized  \\\n",
       "20779  2020-01-13    WA  165155.96926  848224.622047   9262.762478   \n",
       "20778  2020-01-14    WA       0.00000  848224.622047   9262.762478   \n",
       "\n",
       "             death  totalTestResults  mortality_rate  hospitalization_rate  \n",
       "20779  3682.216859      2.186936e+06        2.763952              9.164449  \n",
       "20778  3682.216859      2.186936e+06        2.763952              9.164449  "
      ]
     },
     "execution_count": 57,
     "metadata": {},
     "output_type": "execute_result"
    }
   ],
   "source": [
    "%%time \n",
    "data_limpio = eliminar(df_hist, index_list)\n",
    "data_limpio.head(2)"
   ]
  },
  {
   "cell_type": "code",
   "execution_count": 58,
   "metadata": {},
   "outputs": [
    {
     "data": {
      "text/plain": [
       "(13658, 9)"
      ]
     },
     "execution_count": 58,
     "metadata": {},
     "output_type": "execute_result"
    }
   ],
   "source": [
    "data_limpio.shape"
   ]
  },
  {
   "cell_type": "code",
   "execution_count": 59,
   "metadata": {},
   "outputs": [
    {
     "name": "stdout",
     "output_type": "stream",
     "text": [
      "CPU times: total: 0 ns\n",
      "Wall time: 66.7 ms\n"
     ]
    },
    {
     "data": {
      "text/plain": [
       "matplotlib.axes._axes.Axes"
      ]
     },
     "execution_count": 59,
     "metadata": {},
     "output_type": "execute_result"
    },
    {
     "data": {
      "image/png": "[encoded data removed]",
      "text/plain": [
       "<Figure size 1200x800 with 1 Axes>"
      ]
     },
     "metadata": {},
     "output_type": "display_data"
    }
   ],
   "source": [
    "%%time \n",
    "# Llamada a la función\n",
    "grafica = generar_grafica_boxplot(data_limpio)\n",
    "type(grafica)"
   ]
  },
  {
   "cell_type": "code",
   "execution_count": 60,
   "metadata": {},
   "outputs": [],
   "source": [
    "# Guardar csv\n",
    "data_limpio.to_csv(ruta_nuevoCSV, index=False)"
   ]
  }
 ],
 "metadata": {
  "kernelspec": {
   "display_name": "venv",
   "language": "python",
   "name": "python3"
  },
  "language_info": {
   "codemirror_mode": {
    "name": "ipython",
    "version": 3
   },
   "file_extension": ".py",
   "mimetype": "text/x-python",
   "name": "python",
   "nbconvert_exporter": "python",
   "pygments_lexer": "ipython3",
   "version": "3.11.7"
  }
 },
 "nbformat": 4,
 "nbformat_minor": 2
}
