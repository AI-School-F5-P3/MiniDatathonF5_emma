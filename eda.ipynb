{
 "cells": [
  {
   "cell_type": "markdown",
   "metadata": {},
   "source": [
    "# **Importación de librerías** \n",
    "Se importan las librerías necesarias para el análisis\n",
    "- *requests*:  para hacer solicitudes HTTP.\n",
    "- *pandas*: para la manipulación de datos.\n",
    "- *numpy*: para operaciones numéricas.\n",
    "- *matplotlib y seaborn*: para la visualización de datos."
   ]
  },
  {
   "cell_type": "code",
   "execution_count": null,
   "metadata": {},
   "outputs": [],
   "source": [
    "import requests\n",
    "import pandas as pd\n",
    "import numpy as np\n",
    "import matplotlib.pyplot as plt\n",
    "import seaborn as sns\n",
    "import missingno as msno\n",
    "\n",
    "from scipy import stats\n",
    "from sklearn.preprocessing import StandardScaler\n",
    "\n",
    "import data_util as util\n",
    "\n",
    "import warnings\n",
    "\n",
    "# Ignorar todas las advertencias\n",
    "warnings.filterwarnings(\"ignore\")"
   ]
  },
  {
   "cell_type": "markdown",
   "metadata": {},
   "source": [
    "# **Carga de datos**\n",
    "En esta fase se cargarán los datos preprocesados anteriormente, sin datos faltantes ni outliers."
   ]
  },
  {
   "cell_type": "code",
   "execution_count": null,
   "metadata": {},
   "outputs": [],
   "source": [
    "# Cargar csv\n",
    "ruta = \"../minidatathonF5_emma/data/covid19_all.csv\"\n",
    "df = pd.read_csv(ruta, sep=',')\n",
    "df.head(2)\n",
    "\n",
    "# Cantidad registros importados\n",
    "df.shape"
   ]
  },
  {
   "cell_type": "code",
   "execution_count": null,
   "metadata": {},
   "outputs": [],
   "source": [
    "df.columns"
   ]
  },
  {
   "cell_type": "markdown",
   "metadata": {},
   "source": [
    "* Convertir las variables al formato adecuado para realizar las visualizaciones"
   ]
  },
  {
   "cell_type": "code",
   "execution_count": null,
   "metadata": {},
   "outputs": [],
   "source": [
    "# Convertir la columna \"date\" en un objeto de fecha y hora\n",
    "df['date'] = pd.to_datetime(df['date'])\n",
    "\n",
    "# Transformar la columna 'state' a categorías\n",
    "df['state'] = df['state'].astype('category')\n",
    "df.info()"
   ]
  },
  {
   "cell_type": "markdown",
   "metadata": {},
   "source": [
    "# **Análisis Exploratorio Univariante**\n",
    "\n",
    "El análisis univariante es una técnica estadística que se utiliza para analizar y describir una variable individual en un conjunto de datos. En lugar de examinar las relaciones entre múltiples variables, el análisis univariante se enfoca en comprender las características y propiedades de una sola variable a la vez.\n",
    "\n",
    "El análisis univariante puede incluir varias técnicas y medidas, como:\n",
    "\n",
    "1. Medidas de tendencia central: Estas medidas, como la media, la mediana y la moda, se utilizan para describir el valor central o típico de una variable.\n",
    "\n",
    "2. Medidas de dispersión: Estas medidas, como la desviación estándar y el rango, se utilizan para describir cuánto se dispersan los valores de una variable alrededor de la medida central.\n",
    "\n",
    "3. Gráficos de distribución: Los histogramas, diagramas de caja y bigotes, y gráficos de densidad son ejemplos de gráficos utilizados en el análisis univariante para visualizar la distribución de una variable y detectar patrones o formas específicas.\n",
    "\n",
    "4. Análisis de frecuencia: Este análisis implica contar y resumir la frecuencia de diferentes valores o categorías de una variable. Se puede utilizar para identificar valores atípicos, valores más comunes o patrones de frecuencia.\n",
    "\n",
    "5. Pruebas de hipótesis: En el análisis univariante, también se pueden realizar pruebas estadísticas para evaluar si hay diferencias significativas entre grupos o categorías de una variable.\n",
    "\n",
    "El análisis univariante es una etapa importante en cualquier análisis de datos, ya que proporciona una comprensión inicial y detallada de una variable individual. Ayuda a resumir y describir las características clave de una variable, identificar patrones o tendencias y detectar valores atípicos o anómalos."
   ]
  },
  {
   "cell_type": "markdown",
   "metadata": {},
   "source": [
    "* Estadísticas Descriptivas"
   ]
  },
  {
   "cell_type": "code",
   "execution_count": null,
   "metadata": {},
   "outputs": [],
   "source": [
    "# Se eliminan las columnas númericas que no interesan para las estadisticas \n",
    "df_num = df.drop(['date','state'],axis=1)\n",
    "df_num.head(2)"
   ]
  },
  {
   "cell_type": "code",
   "execution_count": null,
   "metadata": {},
   "outputs": [],
   "source": [
    "df_num.describe().round(2)"
   ]
  },
  {
   "cell_type": "markdown",
   "metadata": {},
   "source": [
    "    Conclusiones Generales:\n",
    "    Variabilidad Significativa: Hay una gran variabilidad en todas las variables, especialmente en los casos positivos, negativos y resultados de pruebas. Esto puede reflejar diferencias en la magnitud de la pandemia en diferentes regiones o en diferentes momentos.\n",
    "    Tasas de Mortalidad y Hospitalización: Las tasas de mortalidad y hospitalización tienen una variabilidad moderada, pero en general parecen estar bajo control, con una tasa de mortalidad promedio del 2.32% y una tasa de hospitalización del 8.14%.\n",
    "    Casos Extremos: Existen observaciones con valores extremos, como casos positivos y negativos muy altos, o incluso cero, lo cual sugiere que en algunas áreas o periodos la pandemia tuvo un impacto drásticamente diferente.\n",
    "    Esta información puede ser útil para analizar tendencias y disparidades en el impacto de la pandemia, así como para orientar futuras políticas de salud.\n",
    "\n",
    "\n",
    "\n",
    "\n",
    "\n",
    "\n"
   ]
  },
  {
   "cell_type": "markdown",
   "metadata": {},
   "source": [
    "* Visualización con Gráficos de Densidad"
   ]
  },
  {
   "cell_type": "code",
   "execution_count": null,
   "metadata": {},
   "outputs": [],
   "source": [
    "numeric_columns = df_num.select_dtypes(include=np.number).columns.to_list()\n",
    "num_plots = len(numeric_columns)\n",
    "num_cols = 4\n",
    "num_rows = (num_plots + num_cols - 1) // num_cols\n",
    "\n",
    "fig, axs = plt.subplots(num_rows, num_cols, figsize=(12, 6))\n",
    "\n",
    "\n",
    "for i, column in enumerate(numeric_columns):\n",
    "    row = i // num_cols\n",
    "    col = i % num_cols\n",
    "\n",
    "    axs[row, col].set_title(f'{column}')\n",
    "    sns.kdeplot(data=df, x=column, ax=axs[row, col])\n",
    "    \n",
    "# Eliminar subparcelas vacías si es necesario\n",
    "if num_plots % num_cols != 0:\n",
    "    fig.delaxes(axs[-1, -1])\n",
    "    \n",
    "# Agregar título general a la figura\n",
    "plt.suptitle('GRÁFICOS DE DENSIDAD', fontsize=16)\n",
    "\n",
    "# Ajustar el espacio entre el título general y los subplots\n",
    "plt.subplots_adjust(top=1)\n",
    "plt.tight_layout()\n",
    "plt.show()"
   ]
  },
  {
   "cell_type": "markdown",
   "metadata": {},
   "source": [
    "    Conclusiones Generales:\n",
    "    Sesgo a la Derecha en Varias Variables: Variables como casos positivos, negativos, hospitalizaciones, muertes y resultados de pruebas muestran un sesgo a la derecha, lo que sugiere que la mayoría de las observaciones están en los valores más bajos, con algunas observaciones en valores mucho más altos.\n",
    "    Distribuciones Bimodales: Las distribuciones de los casos negativos y la tasa de mortalidad parecen ser bimodales, lo que indica que existen dos subgrupos dentro de los datos, posiblemente reflejando diferencias entre regiones o períodos de tiempo.\n",
    "    Colas Largas: En varias distribuciones, especialmente en casos positivos, muertes y resultados de pruebas, se observan colas largas hacia valores altos, indicando la presencia de valores extremos que podrían ser importantes para un análisis más detallado.\n",
    "    Estos patrones pueden ayudar a identificar tendencias, anomalías y diferencias entre distintos grupos o periodos de tiempo en los datos, lo que podría ser útil para guiar la toma de decisiones y análisis más profundos."
   ]
  },
  {
   "cell_type": "markdown",
   "metadata": {},
   "source": [
    "* Histogramas para cada varible numérica en subplots"
   ]
  },
  {
   "cell_type": "code",
   "execution_count": null,
   "metadata": {},
   "outputs": [],
   "source": [
    "# Graficar los histogramas en subplots\n",
    "df_num.hist(bins=30, alpha=0.6, color='b', edgecolor='k', linewidth=1.5, figsize=(15, 10), layout=(3, 4))\n",
    "\n",
    "# Ajustar el espaciado entre los subplots\n",
    "plt.tight_layout()\n",
    "\n",
    "# Agregar título general\n",
    "plt.suptitle('Histograma por Variable', fontsize=16)\n",
    "\n",
    "# Ajustar el espacio entre el título general y los subplots\n",
    "plt.subplots_adjust(top=0.9)\n",
    "\n",
    "# Mostrar los histogramas\n",
    "plt.show()"
   ]
  },
  {
   "cell_type": "markdown",
   "metadata": {},
   "source": [
    "    Conclusiones Generales:\n",
    "    Sesgo a la Derecha en la Mayoría de las Variables: La mayoría de las variables, como casos positivos, negativos, hospitalizaciones, muertes y resultados de pruebas, muestran distribuciones sesgadas a la derecha, lo que sugiere que la mayoría de las observaciones tienen valores bajos, pero hay algunas con valores muy altos.\n",
    "    Distribuciones Bimodales: Las distribuciones de los casos negativos y la tasa de mortalidad muestran una posible bimodalidad, lo que sugiere la presencia de subgrupos en los datos que podrían reflejar diferencias geográficas, temporales o demográficas.\n",
    "    Variabilidad en la Tasa de Mortalidad y Hospitalización: Aunque hay concentraciones alrededor de ciertos valores, estas tasas también muestran variabilidad significativa entre las observaciones, lo que sugiere diferencias en la respuesta a la pandemia o en la gravedad de los casos en distintas regiones o periodos de tiempo.\n",
    "    En resumen, los histogramas reflejan patrones similares a los gráficos de densidad, confirmando la concentración de datos en los valores bajos para la mayoría de las variables, pero también mostrando la existencia de subgrupos o valores extremos que podrían ser de interés para un análisis más profundo."
   ]
  },
  {
   "cell_type": "markdown",
   "metadata": {},
   "source": [
    "# **Visualización histórico de Fecha**\n",
    "\n",
    "* Mediante está visualización se puede observar si existe estacionalidad en las 'Tasa de Mortalidad' y 'Tasa de Hospitalización' en el \n",
    "período (01/2020 a 03/2021)"
   ]
  },
  {
   "cell_type": "code",
   "execution_count": null,
   "metadata": {},
   "outputs": [],
   "source": [
    "date_columns = df.select_dtypes(include='datetime64').columns.to_list()\n",
    "\n",
    "for column in date_columns:\n",
    "    plt.figure(figsize=(15,7))\n",
    "    \n",
    "    sns.lineplot(data=df.sample(1000), x=column, y='mortality_rate')\n",
    "    plt.title('Tasa de Mortalidad')\n",
    "    plt.xlim(pd.Timestamp('2020-01-01'), pd.Timestamp('2021-03-31'))\n",
    "    plt.show()"
   ]
  },
  {
   "cell_type": "markdown",
   "metadata": {},
   "source": [
    "    Conclusión General:\n",
    "    El gráfico muestra una alta volatilidad en la tasa de mortalidad a lo largo del tiempo, con picos que reflejan momentos críticos de la pandemia y una tendencia general a la baja hacia 2021, posiblemente indicando mejoras en la respuesta global ante la pandemia. Sin embargo, las fluctuaciones constantes subrayan la complejidad de la situación y la variabilidad en la capacidad de respuesta en diferentes periodos y regiones."
   ]
  },
  {
   "cell_type": "code",
   "execution_count": null,
   "metadata": {},
   "outputs": [],
   "source": [
    "\n",
    "# Agrupar por semana para análisis de tendencias\n",
    "df['week'] = df['date'].dt.to_period('W')\n",
    "df_weekly = df.groupby(['state', 'week']).agg({\n",
    "    'positive': 'sum',\n",
    "    'death': 'sum',\n",
    "    'hospitalized': 'sum'\n",
    "}).reset_index()"
   ]
  },
  {
   "cell_type": "code",
   "execution_count": null,
   "metadata": {},
   "outputs": [],
   "source": [
    "date_columns = df.select_dtypes(include='datetime64').columns.to_list()\n",
    "\n",
    "for column in date_columns:\n",
    "    plt.figure(figsize=(15,7))\n",
    "    \n",
    "    sns.lineplot(data=df.sample(1000), x=column, y='hospitalization_rate')\n",
    "    plt.title('Tasa de Hospitalización')\n",
    "    plt.xlim(pd.Timestamp('2020-01-01'), pd.Timestamp('2021-03-31'))\n",
    "    plt.show()"
   ]
  },
  {
   "cell_type": "markdown",
   "metadata": {},
   "source": [
    "    La tasa de hospitalización durante la pandemia de COVID-19 mostró una alta variabilidad con múltiples picos a lo largo de 2020, lo que refleja las fluctuaciones en la severidad de la pandemia y posibles cambios en las políticas de salud o capacidad hospitalaria. Aunque hubo un ligero descenso hacia finales de 2020, la tasa no presentó una tendencia clara y estuvo marcada por una considerable incertidumbre. Esto sugiere que la situación fue altamente dinámica y sujeta a múltiples factores contextuales a lo largo del año."
   ]
  },
  {
   "cell_type": "code",
   "execution_count": null,
   "metadata": {},
   "outputs": [],
   "source": [
    "# Asegurarnos de que la columna 'date' es de tipo datetime\n",
    "df['date'] = pd.to_datetime(df['date'])\n",
    "\n",
    "# Crear columna 'week' basada en la fecha\n",
    "df['week'] = df['date'].dt.to_period('W')"
   ]
  },
  {
   "cell_type": "code",
   "execution_count": null,
   "metadata": {},
   "outputs": [],
   "source": [
    "# Agrupar por semana para análisis de tendencias\n",
    "df['week'] = df['date'].dt.to_period('W')\n",
    "df_weekly = df.groupby(['state', 'week']).agg({\n",
    "    'positive': 'sum',\n",
    "    'death': 'sum',\n",
    "    'hospitalized': 'sum'\n",
    "}).reset_index()"
   ]
  },
  {
   "cell_type": "markdown",
   "metadata": {},
   "source": [
    "# ANÁLISIS BIVARIANTE\n",
    "\n",
    "El análisis bivariante se utiliza para examinar la relación o asociación entre dos variables en un conjunto de datos.\n",
    "\n",
    "El análisis bivariante puede ser útil para:\n",
    "\n",
    "1. Identificar correlaciones: El análisis bivariante permite determinar si existe una relación entre dos variables y si esa relación es positiva, negativa o no existe. Esto puede ayudar a comprender cómo una variable afecta a la otra y a identificar patrones o tendencias.\n",
    "\n",
    "2. Realizar pruebas de hipótesis: El análisis bivariante puede usarse para evaluar si hay diferencias significativas entre dos grupos o categorías en función de una variable. Esto puede ayudar a determinar si una variable tiene un impacto estadísticamente significativo en otra variable.\n",
    "\n",
    "3. Visualizar la relación: El análisis bivariante a menudo se representa mediante gráficos, como gráficos de dispersión, diagramas de cajas y bigotes, o gráficos de barras. Estos gráficos permiten visualizar la relación entre las dos variables y pueden revelar patrones o tendencias visuales.\n",
    "\n",
    "4. Predecir valores: El análisis bivariante puede ayudar a predecir valores de una variable en función de otra variable. "
   ]
  },
  {
   "cell_type": "markdown",
   "metadata": {},
   "source": [
    "####  **Análisis de distribuciones**\n",
    "\n",
    "* Casos positivos por Estado"
   ]
  },
  {
   "cell_type": "code",
   "execution_count": null,
   "metadata": {},
   "outputs": [],
   "source": [
    "# Agrupamos por estado y sumamos los casos positivos\n",
    "df_state = df.groupby('state').agg({\n",
    "    'positive': 'sum'\n",
    "}).reset_index()\n",
    "\n",
    "# Gráfico de barras para mostrar los casos positivos acumulados por estado usando Seaborn y Matplotlib\n",
    "plt.figure(figsize=(15, 8))\n",
    "sns.set_palette('coolwarm')\n",
    "\n",
    "# Ordenamos los estados por el número de casos positivos acumulados\n",
    "df_state_sorted = df_state.sort_values(by='positive', ascending=False)\n",
    "\n",
    "# Creamos el gráfico de barras\n",
    "sns.barplot(x='state', y='positive', data=df_state_sorted)\n",
    "\n",
    "plt.title('Casos positivos por estado')\n",
    "plt.xlabel('Estado')\n",
    "plt.ylabel('Casos positivos')\n",
    "plt.xticks(rotation=45)\n",
    "plt.show()"
   ]
  },
  {
   "cell_type": "markdown",
   "metadata": {},
   "source": [
    "* Tasa de Mortalidad por Estado"
   ]
  },
  {
   "cell_type": "code",
   "execution_count": null,
   "metadata": {},
   "outputs": [],
   "source": [
    "# Configurar el estilo de seaborn\n",
    "sns.set_style(\"whitegrid\")\n",
    "\n",
    "# Crear la figura y los ejes\n",
    "fig, ax = plt.subplots(figsize=(12, 6))\n",
    "\n",
    "# Crear un boxenplot usando Seaborn\n",
    "sns.boxenplot(data=df, x='state', y='mortality_rate',  palette='coolwarm')\n",
    "\n",
    "# Rotar las etiquetas del eje x para mejorar la legibilidad\n",
    "plt.xticks(rotation=90)\n",
    "\n",
    "# Agregar título y etiquetas a los ejes\n",
    "ax.set_title('Distribución de tasas de mortalidad por estado', fontsize=16, pad=20)\n",
    "ax.set_title('Estado', fontsize=12)\n",
    "ax.set_title('Tasa de mortalidad (%)', fontsize=12)\n",
    "\n",
    "# Quitar las líneas de la cuadrícula\n",
    "ax.grid(False)\n",
    "\n",
    "# Ajustar los márgenes\n",
    "plt.tight_layout()\n",
    "\n",
    "# Mostrar el gráfico\n",
    "plt.show()"
   ]
  },
  {
   "cell_type": "markdown",
   "metadata": {},
   "source": [
    "#### **Visualización de Tendencias temporales**\n",
    "\n",
    "* Casos semanales positivos a nivel nacional"
   ]
  },
  {
   "cell_type": "code",
   "execution_count": null,
   "metadata": {},
   "outputs": [],
   "source": [
    "# Agrupamos por semana para obtener el total de casos positivos a nivel nacional\n",
    "national_weekly = df_weekly.groupby('week')['positive'].sum().reset_index()\n",
    "\n",
    "# Convertimos la columna 'week' a un formato adecuado para Seaborn (puede ser string o datetime)\n",
    "national_weekly['week'] = national_weekly['week'].astype(str)\n",
    "\n",
    "# Gráfico de líneas usando Seaborn\n",
    "plt.figure(figsize=(15, 7))\n",
    "sns.lineplot(data=national_weekly, x='week', y='positive')\n",
    "\n",
    "plt.title('Casos positivos semanales de COVID-19 en EE.UU.')\n",
    "plt.xlabel('Semana')\n",
    "plt.ylabel('Casos positivos')\n",
    "plt.xticks(rotation=45)\n",
    "\n",
    "# Generar nuevas etiquetas \"semana1\", \"semana2\", ...\n",
    "new_labels = [f'{i+1}ª week' for i in range(len(national_weekly))]\n",
    "\n",
    "# Quitar las líneas de división\n",
    "plt.grid(False)\n",
    "\n",
    "# Aplicar las nuevas etiquetas al eje x \n",
    "plt.xticks(ticks=range(len(new_labels)), labels=new_labels, rotation=45)\n",
    "plt.show()"
   ]
  },
  {
   "cell_type": "markdown",
   "metadata": {},
   "source": [
    "* Tasa de Crecimiento diario en los Estados más afectados"
   ]
  },
  {
   "cell_type": "code",
   "execution_count": null,
   "metadata": {},
   "outputs": [],
   "source": [
    "# Configurar el estilo de seaborn\n",
    "sns.set_style(\"whitegrid\")\n",
    "sns.set_palette(\"deep\")\n",
    "\n",
    "# Calcular tasa de crecimiento diario\n",
    "df['growth_rate'] = df.groupby('state')['positive'].pct_change() * 100\n",
    "\n",
    "# Convertir la columna 'date' a datetime si aún no lo está\n",
    "df['date'] = pd.to_datetime(df['date'])\n",
    "\n",
    "# Filtrar datos hasta noviembre de 2020\n",
    "df_filtered = df[df['date'] <= '2020-11-30']\n",
    "\n",
    "# Obtener los 5 estados más afectados\n",
    "top_5_states = df_filtered.groupby('state')['positive'].max().nlargest(5).index\n",
    "\n",
    "# Crear la figura y los ejes\n",
    "fig, ax = plt.subplots(figsize=(15, 8))\n",
    "\n",
    "# Gráfico de líneas de tasa de crecimiento para los 5 estados más afectados\n",
    "for state in top_5_states:\n",
    "    state_data = df_filtered[df_filtered['state'] == state]\n",
    "    sns.lineplot(x='date', y='growth_rate', data=state_data, label=state, ax=ax)\n",
    "\n",
    "# Personalizar el gráfico\n",
    "ax.set_title('Tasa de crecimiento diario en los 5 estados más afectados', fontsize=16, pad=20)\n",
    "ax.set_xlabel('Fecha', fontsize=12)\n",
    "ax.set_ylabel('Tasa de crecimiento (%)', fontsize=12)\n",
    "\n",
    "# Quitar las líneas de la cuadrícula\n",
    "ax.grid(False)\n",
    "\n",
    "# Ajustar la leyenda\n",
    "ax.legend(title='Estado', title_fontsize='12', fontsize='10', loc='upper right')\n",
    "\n",
    "# Ajustar los márgenes\n",
    "plt.tight_layout()\n",
    "\n",
    "# Mostrar el gráfico\n",
    "plt.show()"
   ]
  },
  {
   "cell_type": "markdown",
   "metadata": {},
   "source": [
    "#### **Análisis de Correlación**\n",
    "\n",
    "Podemos analizar la relación entre las diferentes variables"
   ]
  },
  {
   "cell_type": "code",
   "execution_count": null,
   "metadata": {},
   "outputs": [],
   "source": [
    "\n",
    "# Seleccionar variables numéricas relevantes\n",
    "numeric_vars = ['positive', 'negative', 'death', 'hospitalized', 'totalTestResults']\n",
    "\n",
    "# Crear matriz de correlación\n",
    "corr_matrix = df[numeric_vars].corr()\n",
    "\n",
    "# Crear una máscara para ocultar la mitad inferior de la matriz, pero dejando visible la diagonal\n",
    "mask = np.triu(np.ones_like(corr_matrix, dtype=bool), k=1)\n",
    "\n",
    "# Crear mapa de calor con anotaciones\n",
    "plt.figure(figsize=(12, 10))\n",
    "sns.heatmap(corr_matrix, mask=mask, annot=True, cmap='coolwarm', vmin=-1, vmax=1, center=0)\n",
    "\n",
    "plt.title('Matriz de correlación de variables de COVID-19 (Mitad Superior con Diagonal)')\n",
    "plt.show()\n"
   ]
  }
 ],
 "metadata": {
  "kernelspec": {
   "display_name": "venv",
   "language": "python",
   "name": "python3"
  },
  "language_info": {
   "codemirror_mode": {
    "name": "ipython",
    "version": 3
   },
   "file_extension": ".py",
   "mimetype": "text/x-python",
   "name": "python",
   "nbconvert_exporter": "python",
   "pygments_lexer": "ipython3",
   "version": "3.11.7"
  }
 },
 "nbformat": 4,
 "nbformat_minor": 2
}
